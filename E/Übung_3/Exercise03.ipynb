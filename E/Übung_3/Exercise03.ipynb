{
 "cells": [
  {
   "cell_type": "markdown",
   "metadata": {},
   "source": [
    "Before you turn this problem in, make sure everything runs as expected. First, **restart the kernel** (in the menubar, select Kernel$\\rightarrow$Restart) and then **run all cells** (in the menubar, select Cell$\\rightarrow$Run All).\n",
    "\n",
    "Make sure you fill in any place that says `YOUR CODE HERE` or \"YOUR ANSWER HERE\", as well as your name and collaborators below:"
   ]
  },
  {
   "cell_type": "code",
   "execution_count": null,
   "metadata": {},
   "outputs": [],
   "source": [
    "NAME = \"\"\n",
    "COLLABORATORS = \"\""
   ]
  },
  {
   "cell_type": "markdown",
   "metadata": {},
   "source": [
    "---"
   ]
  },
  {
   "cell_type": "markdown",
   "metadata": {
    "deletable": false,
    "editable": false,
    "nbgrader": {
     "checksum": "044b7da3cb3fbfe32325e5edefdab89b",
     "grade": false,
     "grade_id": "cell-ffa71f6b669da86c",
     "locked": true,
     "schema_version": 1,
     "solution": false
    }
   },
   "source": [
    "#  Einleitung\n",
    "In dieser Aufgabe soll Ihr Verständnis von Sortieralgorithmen gestärkt werden. Stellen Sie sicher, dass sie das Archiv samt Test-Dateien heruntergeladen und in einen Unterordner `test_cases` extrahiert haben (Quelle: http://blog.quibb.org/2008/11/sort-optimization/). Öffnen Sie den Ordner und schauen Sie sich den Schema an, nachdem die Dateien benannt sind.\n",
    "\n",
    "\n"
   ]
  },
  {
   "cell_type": "markdown",
   "metadata": {
    "deletable": false,
    "editable": false,
    "nbgrader": {
     "checksum": "f9d496e697ccc50c6d60558e59ee5904",
     "grade": false,
     "grade_id": "cell-f56609ca84e81010",
     "locked": true,
     "schema_version": 1,
     "solution": false
    }
   },
   "source": [
    "# Sortierverfahren implementieren (6⋅4 Pkt.)\n",
    "Implementieren Sie folgende Sortieralgorithmen.\n",
    "\n",
    "- Selectionsort\n",
    "- Insertionsort\n",
    "- Quicksort\n",
    "- Bubblesort\n",
    "- Mergesort\n",
    "- Heapsort\n",
    "\n",
    "Die Sortieralgorithmen sollen eine sortierte Kopie der ursprünglichen Liste zurück geben und das Original nicht verändern (damit das Verhalten kongruent zu `sorted()`) ist.\n"
   ]
  },
  {
   "cell_type": "code",
   "execution_count": null,
   "metadata": {
    "deletable": false,
    "nbgrader": {
     "checksum": "cca8cf639b18c7118b37ad05ef48402a",
     "grade": false,
     "grade_id": "cell-6d812715dbe509ce",
     "locked": false,
     "schema_version": 1,
     "solution": true
    }
   },
   "outputs": [],
   "source": [
    "\n",
    "def selectionsort(data):\n",
    "    # YOUR CODE HERE\n",
    "    raise NotImplementedError()\n",
    "\n",
    "def insertionsort(data):\n",
    "    # YOUR CODE HERE\n",
    "    raise NotImplementedError()\n",
    "\n",
    "def bubblesort(data):\n",
    "    # YOUR CODE HERE\n",
    "    raise NotImplementedError()\n",
    "\n",
    "def quicksort(data):\n",
    "    # YOUR CODE HERE\n",
    "    raise NotImplementedError()\n",
    "    \n",
    "def heapsort(data):\n",
    "    # YOUR CODE HERE\n",
    "    raise NotImplementedError()\n",
    "\n",
    "def mergesort(data):\n",
    "    # YOUR CODE HERE\n",
    "    raise NotImplementedError()\n"
   ]
  },
  {
   "cell_type": "code",
   "execution_count": null,
   "metadata": {
    "deletable": false,
    "editable": false,
    "nbgrader": {
     "checksum": "601dcd441a8a65d90b4cbddcc0f59c1e",
     "grade": true,
     "grade_id": "cell-848f5caf61f83589",
     "locked": true,
     "points": 0,
     "schema_version": 1,
     "solution": false
    }
   },
   "outputs": [],
   "source": [
    "import random\n",
    "\n",
    "SAMPLE_LIST = random.sample(range(100), 30)\n",
    "\n",
    "def test_algorithm(algorithm):\n",
    "    sample_list = SAMPLE_LIST[:]\n",
    "    assert algorithm(sample_list) == sorted(sample_list), \"{} did not sort the list\".format(algorithm.__name__)\n",
    "    assert sample_list == SAMPLE_LIST, \"{} altered the original\".format(algorithm.__name__)"
   ]
  },
  {
   "cell_type": "code",
   "execution_count": null,
   "metadata": {
    "deletable": false,
    "editable": false,
    "nbgrader": {
     "checksum": "f93a3075f68b4d3e0358fa08335c181a",
     "grade": true,
     "grade_id": "cell-87b11519e17f1c63",
     "locked": true,
     "points": 4,
     "schema_version": 1,
     "solution": false
    }
   },
   "outputs": [],
   "source": [
    "test_algorithm(selectionsort)"
   ]
  },
  {
   "cell_type": "code",
   "execution_count": null,
   "metadata": {
    "deletable": false,
    "editable": false,
    "nbgrader": {
     "checksum": "28b1445d75d1e7d9443b380352f68461",
     "grade": true,
     "grade_id": "cell-24cfee0a571db291",
     "locked": true,
     "points": 4,
     "schema_version": 1,
     "solution": false
    }
   },
   "outputs": [],
   "source": [
    "test_algorithm(insertionsort)"
   ]
  },
  {
   "cell_type": "code",
   "execution_count": null,
   "metadata": {
    "deletable": false,
    "editable": false,
    "nbgrader": {
     "checksum": "38c72c4193b159c90abf9b5efa9f02b0",
     "grade": true,
     "grade_id": "cell-78ffe6f52e47fc47",
     "locked": true,
     "points": 4,
     "schema_version": 1,
     "solution": false
    }
   },
   "outputs": [],
   "source": [
    "test_algorithm(bubblesort)"
   ]
  },
  {
   "cell_type": "code",
   "execution_count": null,
   "metadata": {
    "deletable": false,
    "editable": false,
    "nbgrader": {
     "checksum": "755e50222934b2036f872a96ae3d309c",
     "grade": true,
     "grade_id": "cell-e60d068bfdb9cdde",
     "locked": true,
     "points": 4,
     "schema_version": 1,
     "solution": false
    }
   },
   "outputs": [],
   "source": [
    "test_algorithm(quicksort)"
   ]
  },
  {
   "cell_type": "code",
   "execution_count": null,
   "metadata": {
    "deletable": false,
    "editable": false,
    "nbgrader": {
     "checksum": "d0e12c8899111de36bd45aeb27f7cea9",
     "grade": true,
     "grade_id": "cell-037297fb44664ec1",
     "locked": true,
     "points": 4,
     "schema_version": 1,
     "solution": false
    }
   },
   "outputs": [],
   "source": [
    "test_algorithm(heapsort)"
   ]
  },
  {
   "cell_type": "code",
   "execution_count": null,
   "metadata": {
    "deletable": false,
    "editable": false,
    "nbgrader": {
     "checksum": "4f34e7554f9bb8de9bd2148e3c6232b3",
     "grade": true,
     "grade_id": "cell-96e6149464b940df",
     "locked": true,
     "points": 4,
     "schema_version": 1,
     "solution": false
    }
   },
   "outputs": [],
   "source": [
    "test_algorithm(mergesort)"
   ]
  },
  {
   "cell_type": "markdown",
   "metadata": {
    "deletable": false,
    "editable": false,
    "nbgrader": {
     "checksum": "601327d4999fee3744c2a024a4a079cb",
     "grade": false,
     "grade_id": "cell-84426cd680519ec2",
     "locked": true,
     "schema_version": 1,
     "solution": false
    }
   },
   "source": [
    "# Einlesen von Dateien (4 Pkt.)\n",
    "Schreiben sie eine Funktion `load_test_cases(path)`, die zu den zur Verfügung gestellten Testfällen jeweils die Datei mit 10e3 Einträgen lädt."
   ]
  },
  {
   "cell_type": "code",
   "execution_count": null,
   "metadata": {
    "deletable": false,
    "nbgrader": {
     "checksum": "66401d0e72aeca9ae57ce9cad9ec7c4e",
     "grade": false,
     "grade_id": "cell-d64d799097780639",
     "locked": false,
     "schema_version": 1,
     "solution": true
    }
   },
   "outputs": [],
   "source": [
    "# YOUR CODE HERE\n",
    "raise NotImplementedError()\n",
    "\n",
    "TEST_CASE_PATH = \"test_files\"\n",
    "\n",
    "def load_test_cases(path):\n",
    "    # YOUR CODE HERE\n",
    "    raise NotImplementedError()\n",
    "    "
   ]
  },
  {
   "cell_type": "code",
   "execution_count": null,
   "metadata": {
    "deletable": false,
    "editable": false,
    "nbgrader": {
     "checksum": "c1a5b3116037576c278430d102fbf85d",
     "grade": true,
     "grade_id": "cell-6b64b68014341d9a",
     "locked": true,
     "points": 4,
     "schema_version": 1,
     "solution": false
    }
   },
   "outputs": [],
   "source": [
    "import unittest\n",
    "\n",
    "unittest_test_case = unittest.TestCase('__init__')\n",
    "\n",
    "loaded_test_cases = load_test_cases(TEST_CASE_PATH)\n",
    "available_test_cases = ['1245.repeat', 'end.0', 'identical', 'med.3.killer', 'rand.dups', 'rand.no.dups', 'rand.steps', \n",
    "                        'rev.ends', 'rev.partial', 'rev.saw', 'reverse', 'seq.0.is.1000', 'seq.partial', 'seq.saw', 'sequential']\n",
    "\n",
    "unittest_test_case.assertCountEqual(loaded_test_cases.keys(), available_test_cases)\n",
    "\n",
    "for key, value in loaded_test_cases.items():\n",
    "    assert len(value) == 10e3, \"Number of testcases mismatch for {}\".format(key)"
   ]
  },
  {
   "cell_type": "markdown",
   "metadata": {
    "deletable": false,
    "editable": false,
    "nbgrader": {
     "checksum": "4f402817feb6972f192b5d138043f40e",
     "grade": false,
     "grade_id": "cell-47b900000dd01232",
     "locked": true,
     "schema_version": 1,
     "solution": false
    }
   },
   "source": [
    "# Sortierverfahren testen (12 Pkt.)\n",
    " Vergleichen Sie die Sortierverfahren untereinander und mit der Python Funktion `sorted()`\n",
    " - Benutzen sie `result = %timeit -n 100 -r 3 -o` um die Ausführung zu messen und das Ergebnis in einer Variablen speichern zu können. Auf das beste Ergebnis können Sie mit `result.best` zugreifen.\n",
    " - Gruppieren Sie die Ergebnisse nach Testfall.\n",
    " - Testen sie folgende „Splices“ Ihres Testdatensatzes: `x_values = [10, 20, 50, 100, 200, 500, 1000, 2000, 5000, 10000]`\n",
    " - Stellen sie die Ergebnisse mittels Tabelle und Graphen mit Titel und Achsenbeschriftung dar (Matplotlib).\n",
    " - Bewerten Sie das Ergebnis"
   ]
  },
  {
   "cell_type": "code",
   "execution_count": null,
   "metadata": {
    "deletable": false,
    "nbgrader": {
     "checksum": "375f9afd6886b3e231c120827997b8dc",
     "grade": true,
     "grade_id": "cell-584a475079bfa4bd",
     "locked": false,
     "points": 12,
     "schema_version": 1,
     "solution": true
    }
   },
   "outputs": [],
   "source": [
    "# for quicksort\n",
    "import sys\n",
    "sys.setrecursionlimit(20000)\n",
    "\n",
    "# YOUR CODE HERE\n",
    "raise NotImplementedError()\n",
    "        "
   ]
  }
 ],
 "metadata": {
  "kernelspec": {
   "display_name": "Python 3",
   "language": "python",
   "name": "python3"
  },
  "language_info": {
   "codemirror_mode": {
    "name": "ipython",
    "version": 3
   },
   "file_extension": ".py",
   "mimetype": "text/x-python",
   "name": "python",
   "nbconvert_exporter": "python",
   "pygments_lexer": "ipython3",
   "version": "3.6.5"
  }
 },
 "nbformat": 4,
 "nbformat_minor": 2
}
