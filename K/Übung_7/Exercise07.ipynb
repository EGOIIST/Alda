{
 "cells": [
  {
   "cell_type": "markdown",
   "metadata": {},
   "source": [
    "Before you turn this problem in, make sure everything runs as expected. First, **restart the kernel** (in the menubar, select Kernel$\\rightarrow$Restart) and then **run all cells** (in the menubar, select Cell$\\rightarrow$Run All).\n",
    "\n",
    "Make sure you fill in any place that says `YOUR CODE HERE` or \"YOUR ANSWER HERE\", as well as your name and collaborators below:"
   ]
  },
  {
   "cell_type": "code",
   "execution_count": null,
   "metadata": {},
   "outputs": [],
   "source": [
    "NAME = \"\"\n",
    "COLLABORATORS = \"\""
   ]
  },
  {
   "cell_type": "markdown",
   "metadata": {},
   "source": [
    "---"
   ]
  },
  {
   "cell_type": "markdown",
   "metadata": {
    "deletable": false,
    "editable": false,
    "nbgrader": {
     "checksum": "4f98b7958f574cf6b102492270ad00c0",
     "grade": false,
     "grade_id": "cell-37b6cd40d940ada4",
     "locked": true,
     "schema_version": 1,
     "solution": false
    }
   },
   "source": [
    "# Inverses Hashing"
   ]
  },
  {
   "cell_type": "markdown",
   "metadata": {
    "deletable": false,
    "editable": false,
    "nbgrader": {
     "checksum": "b071bc4dc8d1c569afee3e0b3088cafc",
     "grade": false,
     "grade_id": "cell-4263b72d83e15c4e",
     "locked": true,
     "schema_version": 1,
     "solution": false
    }
   },
   "source": [
    "Hashtabellen werden ineffizient, wenn die verwendete Hashfunktion viele Kollisionen verursacht. Ein Hacker, der die Hashfunktion kennt, kann diese Tatsache ausnutzen, um absichtlich ineffiziente Anfragen zu konstruieren: Er wählt die in der Anfrage verwendeten Schlüssel gezielt so, dass alle auf den gleichen Hashwert abgebildet werden (\"adversarial keys\"). Werden viele ineffiziente Anfragen dieser Art gleichzeitig gestartet, kann die angegriffene Webseite (die die gegebene Hashfunktion intern benutzt) zusammenbrechen (\"denial of service\"). In der Praxis verhindert man dies durch die Verwendung von universellem Hashing, indem man die Hashfunktion per Zufall aus einem großen Pool erlaubter Hashfunktionen auswählt. Dann ist es nicht mehr möglich, im Vorhinein ein ungünstiges Set von Schlüsseln zu konstruieren. Für diese Übungsaufgabe wollen wir aber annehmen, dass stets die folgende einfache Hashfunktion verwendet wird:\n",
    "```python\n",
    "def hhash(s): # s ist ein Schlüssel vom Typ string\n",
    "    h = 0     # der Hashwert wird mit 0 initialisiert\n",
    "    for k in s:\n",
    "        h = 23*h + ord(k)  # Aktualisieren des Hashs mit dem Zeichencode\n",
    "    return h\n",
    "```\n",
    "Dabei gibt `ord(k)` den Zeichencode des Zeichens k zurück. Schreiben Sie eine Funktion um mindestens 16 Schlüssel (Strings) der Länge 4 zu finden, die alle den gleichen Hashwert haben. Geben Sie diese Schlüssel zurück und beschreiben Sie (Python docstring im Funktionskopf), wie Sie vorgegangen sind, um diese Schlüssel zu finden. Hinweis: Beginnen Sie damit, Kollisionen mit Schlüsseln der Länge 2 zu konstruieren und verwenden Sie diese Ergebnisse zur Konstruktion von Schlüsseln der Länge 4."
   ]
  },
  {
   "cell_type": "code",
   "execution_count": null,
   "metadata": {
    "deletable": false,
    "nbgrader": {
     "checksum": "f5666e78db326911fc44aa0b7266f55e",
     "grade": false,
     "grade_id": "cell-dcc9a6b4bd08bee9",
     "locked": false,
     "schema_version": 1,
     "solution": true
    }
   },
   "outputs": [],
   "source": [
    "def hhash(s):\n",
    "        h = 0\n",
    "        for k in s:\n",
    "            h = 23*h + ord(k)\n",
    "        return h\n",
    "    \n",
    "def findAdversialKeys():\n",
    "# YOUR CODE HERE\n",
    "raise NotImplementedError()"
   ]
  },
  {
   "cell_type": "code",
   "execution_count": null,
   "metadata": {
    "deletable": false,
    "editable": false,
    "nbgrader": {
     "checksum": "b4f95ddb315291a7e091031b9ae92383",
     "grade": true,
     "grade_id": "cell-885536a84f661a21",
     "locked": true,
     "points": 15,
     "schema_version": 1,
     "solution": false
    }
   },
   "outputs": [],
   "source": [
    "print(\"Testing inverse hashing.\")\n",
    "adv_keys = findAdversialKeys()\n",
    "print(\"done\")"
   ]
  },
  {
   "cell_type": "markdown",
   "metadata": {
    "deletable": false,
    "editable": false,
    "nbgrader": {
     "checksum": "7f85bb1f8d1f0f27838d796ee65525a7",
     "grade": false,
     "grade_id": "cell-840d7fcd54a1b170",
     "locked": true,
     "schema_version": 1,
     "solution": false
    }
   },
   "source": [
    "# 2. Hash-Table"
   ]
  },
  {
   "cell_type": "markdown",
   "metadata": {
    "deletable": false,
    "editable": false,
    "nbgrader": {
     "checksum": "5af90decdd69d36a85cd3cedfd4b1607",
     "grade": false,
     "grade_id": "cell-ab9d48dd91c74d36",
     "locked": true,
     "schema_version": 1,
     "solution": false
    }
   },
   "source": [
    "Definieren Sie eine Klasse `HashTable`, die eine Hash-Tabelle der Größe `size` als geschachtelte Liste (Liste in einer Liste) implementiert (Bsp. `[[], [], [], [], [], [], [], [], [], []]`). Implementieren Sie die folgenden drei Methoden:\n",
    "\n",
    "  - `set(key, value)`: Um ein neues Schlüssel-Wert-Paar zu der Tabelle hinzuzufügen\n",
    "  - `get(key)`: Um den Wert zu einem Schlüssel zurück zu geben. Raise a KeyError when the given key isn't in the Hash Table.\n",
    "  - `remove(key)`: Um ein Schlüssel-Wert-Paar aus der Tabelle zu entfernen. Befindet sich der Schlüssel nicht in der Liste soll eine `KeyError` Ausnahme ausgelöst werden.\n",
    " "
   ]
  },
  {
   "cell_type": "code",
   "execution_count": null,
   "metadata": {
    "deletable": false,
    "nbgrader": {
     "checksum": "256d8b36b89d5f5f53b445a0a335e475",
     "grade": false,
     "grade_id": "cell-b583ed5b3b5cee94",
     "locked": false,
     "schema_version": 1,
     "solution": true
    }
   },
   "outputs": [],
   "source": [
    "class KeyValuePair(object):\n",
    "\n",
    "    def __init__(self, key, value):\n",
    "        self.key = key\n",
    "        self.value = value\n",
    "\n",
    "class HashTable(object):\n",
    "\n",
    "    # YOUR CODE HERE\n",
    "    raise NotImplementedError()\n",
    "        \n"
   ]
  },
  {
   "cell_type": "code",
   "execution_count": null,
   "metadata": {
    "deletable": false,
    "editable": false,
    "nbgrader": {
     "checksum": "27806e8c3dbcb672369d01256cfbb345",
     "grade": true,
     "grade_id": "cell-504521e252fb4e77",
     "locked": true,
     "points": 10,
     "schema_version": 1,
     "solution": false
    }
   },
   "outputs": [],
   "source": [
    "hash_table = HashTable(10)\n"
   ]
  },
  {
   "cell_type": "markdown",
   "metadata": {
    "deletable": false,
    "editable": false,
    "nbgrader": {
     "checksum": "39a07349bbdfca4055a3ef4956845109",
     "grade": false,
     "grade_id": "cell-61311686f187f304",
     "locked": true,
     "schema_version": 1,
     "solution": false
    }
   },
   "source": [
    "Schreiben Sie Einheitentests um die Funktionen `insert`, `get` und `remove` zu testen. Überprüfen Sie folgendes Verhalten:\n",
    "\n",
    " 1. `get` auf eine leere Tabelle\n",
    " 2. `set` auf eine leere Tabelle\n",
    " 3. `set` auf eine nicht-leere Tabelle mit nicht vorhandenem Schlüssel\n",
    " 4. `set` mit bereits vorhandenem Schlüssel (Der Wert sollte aktualisiert werden)\n",
    " 5. `remove` auf einen vorhandenen Schlüssel\n",
    " 6. `remove`auf einen nicht vorhandenen Schlüssel\n",
    "\n",
    "Geben Sie **Success: test_№** wenn der Test erfolgreich durchläuft (Bsp. **Success: test_1** für den ersten Test)."
   ]
  },
  {
   "cell_type": "code",
   "execution_count": null,
   "metadata": {
    "deletable": false,
    "nbgrader": {
     "checksum": "ae942c6f460e226dac48a9ea8420e51a",
     "grade": false,
     "grade_id": "cell-6509e5223cc4c0b6",
     "locked": false,
     "schema_version": 1,
     "solution": true
    }
   },
   "outputs": [],
   "source": [
    "import unittest\n",
    "\n",
    "class HashTest(unittest.TestCase):\n",
    "    \n",
    "    def test_1_get_on_empty_hash_table(self):\n",
    "        # YOUR CODE HERE\n",
    "        raise NotImplementedError()\n",
    "\n",
    "    def test_2_set_on_empty_hash_table(self):\n",
    "        # YOUR CODE HERE\n",
    "        raise NotImplementedError()\n",
    "\n",
    "    def test_3_set_on_non_empty_hash_table(self):\n",
    "        # YOUR CODE HERE\n",
    "        raise NotImplementedError()\n",
    "\n",
    "    def test_4_set_on_a_key_that_already_exists(self):\n",
    "        # YOUR CODE HERE\n",
    "        raise NotImplementedError()\n",
    "\n",
    "    def test_5_remove_on_a_key_that_already_exists(self):\n",
    "        # YOUR CODE HERE\n",
    "        raise NotImplementedError()\n",
    "    \n",
    "    def test_6_remove_on_a_key_that_does_not_exist(self):\n",
    "        # YOUR CODE HERE\n",
    "        raise NotImplementedError()\n",
    "        \n",
    "unittest.main(argv=['first-arg-is-ignored'], exit=False)"
   ]
  },
  {
   "cell_type": "code",
   "execution_count": null,
   "metadata": {
    "deletable": false,
    "editable": false,
    "nbgrader": {
     "checksum": "ca9829a7d8c65f0d83a1b25ca0d9a3e8",
     "grade": true,
     "grade_id": "cell-b888785bc6c55b6e",
     "locked": true,
     "points": 15,
     "schema_version": 1,
     "solution": false
    }
   },
   "outputs": [],
   "source": [
    "test_suite = unittest.TestLoader().loadTestsFromTestCase(HashTest)\n",
    "import os\n",
    "test_result = unittest.TextTestRunner(stream = open(os.devnull, 'w')).run(test_suite)\n"
   ]
  }
 ],
 "metadata": {
  "kernelspec": {
   "display_name": "Python 3",
   "language": "python",
   "name": "python3"
  },
  "language_info": {
   "codemirror_mode": {
    "name": "ipython",
    "version": 3
   },
   "file_extension": ".py",
   "mimetype": "text/x-python",
   "name": "python",
   "nbconvert_exporter": "python",
   "pygments_lexer": "ipython3",
   "version": "3.6.5"
  }
 },
 "nbformat": 4,
 "nbformat_minor": 2
}
